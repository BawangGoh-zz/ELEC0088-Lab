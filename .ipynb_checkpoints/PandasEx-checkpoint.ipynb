{
 "cells": [
  {
   "cell_type": "markdown",
   "metadata": {},
   "source": [
    "## Pandas Exercise\n",
    "### Task: Use pandas to process and query the wireshark file you send in Chapter 6\n",
    "#### 1) Load the Wireshark file that you used in Chapter 6 into a pandas DataFrame"
   ]
  },
  {
   "cell_type": "code",
   "execution_count": 19,
   "metadata": {},
   "outputs": [
    {
     "data": {
      "text/html": [
       "<div>\n",
       "<style scoped>\n",
       "    .dataframe tbody tr th:only-of-type {\n",
       "        vertical-align: middle;\n",
       "    }\n",
       "\n",
       "    .dataframe tbody tr th {\n",
       "        vertical-align: top;\n",
       "    }\n",
       "\n",
       "    .dataframe thead th {\n",
       "        text-align: right;\n",
       "    }\n",
       "</style>\n",
       "<table border=\"1\" class=\"dataframe\">\n",
       "  <thead>\n",
       "    <tr style=\"text-align: right;\">\n",
       "      <th></th>\n",
       "      <th></th>\n",
       "      <th>Time</th>\n",
       "      <th>Source</th>\n",
       "      <th>Destination</th>\n",
       "      <th>Protocol</th>\n",
       "      <th>Length</th>\n",
       "      <th>Info</th>\n",
       "    </tr>\n",
       "  </thead>\n",
       "  <tbody>\n",
       "    <tr>\n",
       "      <td>1</td>\n",
       "      <td>1</td>\n",
       "      <td>0.000000</td>\n",
       "      <td>10.97.172.240</td>\n",
       "      <td>52.21.103.149</td>\n",
       "      <td>TCP</td>\n",
       "      <td>78</td>\n",
       "      <td>54831  &gt;  443 [SYN] Seq=0 Win=65535 Len=0 MSS=...</td>\n",
       "    </tr>\n",
       "    <tr>\n",
       "      <td>2</td>\n",
       "      <td>2</td>\n",
       "      <td>0.082079</td>\n",
       "      <td>52.21.103.149</td>\n",
       "      <td>10.97.172.240</td>\n",
       "      <td>TCP</td>\n",
       "      <td>66</td>\n",
       "      <td>443  &gt;  54831 [SYN, ACK] Seq=0 Ack=1 Win=26883...</td>\n",
       "    </tr>\n",
       "    <tr>\n",
       "      <td>3</td>\n",
       "      <td>3</td>\n",
       "      <td>0.082252</td>\n",
       "      <td>10.97.172.240</td>\n",
       "      <td>52.21.103.149</td>\n",
       "      <td>TCP</td>\n",
       "      <td>54</td>\n",
       "      <td>54831  &gt;  443 [ACK] Seq=1 Ack=1 Win=262144 Len=0</td>\n",
       "    </tr>\n",
       "    <tr>\n",
       "      <td>4</td>\n",
       "      <td>4</td>\n",
       "      <td>0.083455</td>\n",
       "      <td>10.97.172.240</td>\n",
       "      <td>52.21.103.149</td>\n",
       "      <td>TLSv1.2</td>\n",
       "      <td>309</td>\n",
       "      <td>Client Hello</td>\n",
       "    </tr>\n",
       "    <tr>\n",
       "      <td>5</td>\n",
       "      <td>5</td>\n",
       "      <td>0.164650</td>\n",
       "      <td>52.21.103.149</td>\n",
       "      <td>10.97.172.240</td>\n",
       "      <td>TCP</td>\n",
       "      <td>54</td>\n",
       "      <td>443  &gt;  54831 [ACK] Seq=1 Ack=256 Win=28160 Len=0</td>\n",
       "    </tr>\n",
       "  </tbody>\n",
       "</table>\n",
       "</div>"
      ],
      "text/plain": [
       "          Time         Source    Destination Protocol  Length  \\\n",
       "1  1  0.000000  10.97.172.240  52.21.103.149      TCP      78   \n",
       "2  2  0.082079  52.21.103.149  10.97.172.240      TCP      66   \n",
       "3  3  0.082252  10.97.172.240  52.21.103.149      TCP      54   \n",
       "4  4  0.083455  10.97.172.240  52.21.103.149  TLSv1.2     309   \n",
       "5  5  0.164650  52.21.103.149  10.97.172.240      TCP      54   \n",
       "\n",
       "                                                Info  \n",
       "1  54831  >  443 [SYN] Seq=0 Win=65535 Len=0 MSS=...  \n",
       "2  443  >  54831 [SYN, ACK] Seq=0 Ack=1 Win=26883...  \n",
       "3   54831  >  443 [ACK] Seq=1 Ack=1 Win=262144 Len=0  \n",
       "4                                       Client Hello  \n",
       "5  443  >  54831 [ACK] Seq=1 Ack=256 Win=28160 Len=0  "
      ]
     },
     "execution_count": 19,
     "metadata": {},
     "output_type": "execute_result"
    }
   ],
   "source": [
    "import numpy as np \n",
    "import pandas as pd\n",
    "\n",
    "# Load data from Wireshark\n",
    "df = pd.read_csv(\"ws.csv\")\n",
    "df.index = df.index + 1\n",
    "df.head()"
   ]
  },
  {
   "cell_type": "code",
   "execution_count": 20,
   "metadata": {},
   "outputs": [
    {
     "name": "stdout",
     "output_type": "stream",
     "text": [
      "Index([' ', 'Time', 'Source', 'Destination', 'Protocol', 'Length', 'Info'], dtype='object')\n"
     ]
    }
   ],
   "source": [
    "# Print the keys from the dictionaries\n",
    "print(df.keys())"
   ]
  },
  {
   "cell_type": "markdown",
   "metadata": {},
   "source": [
    "#### 2) How many packets (rows) are there in the DataFrame\n"
   ]
  },
  {
   "cell_type": "code",
   "execution_count": 21,
   "metadata": {},
   "outputs": [
    {
     "name": "stdout",
     "output_type": "stream",
     "text": [
      "Number of packets: 30922\n"
     ]
    }
   ],
   "source": [
    "# Print the number of packet\n",
    "num_packet = df.shape[0]\n",
    "print('Number of packets: ' + str(num_packet))"
   ]
  },
  {
   "cell_type": "markdown",
   "metadata": {},
   "source": [
    "#### 3) How many fields (columns) are there in the DataFrame ?"
   ]
  },
  {
   "cell_type": "code",
   "execution_count": 22,
   "metadata": {},
   "outputs": [
    {
     "name": "stdout",
     "output_type": "stream",
     "text": [
      "Index([' ', 'Time', 'Source', 'Destination', 'Protocol', 'Length', 'Info'], dtype='object')\n",
      "7\n"
     ]
    }
   ],
   "source": [
    "# Print the field (dictionary keys) in the DataFrame\n",
    "print(df.keys())\n",
    "num_field = df.shape[1]\n",
    "print(num_field)"
   ]
  },
  {
   "cell_type": "markdown",
   "metadata": {},
   "source": [
    "#### 4) Remove the last column"
   ]
  },
  {
   "cell_type": "code",
   "execution_count": 23,
   "metadata": {},
   "outputs": [
    {
     "data": {
      "text/html": [
       "<div>\n",
       "<style scoped>\n",
       "    .dataframe tbody tr th:only-of-type {\n",
       "        vertical-align: middle;\n",
       "    }\n",
       "\n",
       "    .dataframe tbody tr th {\n",
       "        vertical-align: top;\n",
       "    }\n",
       "\n",
       "    .dataframe thead th {\n",
       "        text-align: right;\n",
       "    }\n",
       "</style>\n",
       "<table border=\"1\" class=\"dataframe\">\n",
       "  <thead>\n",
       "    <tr style=\"text-align: right;\">\n",
       "      <th></th>\n",
       "      <th></th>\n",
       "      <th>Time</th>\n",
       "      <th>Source</th>\n",
       "      <th>Destination</th>\n",
       "      <th>Protocol</th>\n",
       "      <th>Length</th>\n",
       "    </tr>\n",
       "  </thead>\n",
       "  <tbody>\n",
       "    <tr>\n",
       "      <td>1</td>\n",
       "      <td>1</td>\n",
       "      <td>0.000000</td>\n",
       "      <td>10.97.172.240</td>\n",
       "      <td>52.21.103.149</td>\n",
       "      <td>TCP</td>\n",
       "      <td>78</td>\n",
       "    </tr>\n",
       "    <tr>\n",
       "      <td>2</td>\n",
       "      <td>2</td>\n",
       "      <td>0.082079</td>\n",
       "      <td>52.21.103.149</td>\n",
       "      <td>10.97.172.240</td>\n",
       "      <td>TCP</td>\n",
       "      <td>66</td>\n",
       "    </tr>\n",
       "    <tr>\n",
       "      <td>3</td>\n",
       "      <td>3</td>\n",
       "      <td>0.082252</td>\n",
       "      <td>10.97.172.240</td>\n",
       "      <td>52.21.103.149</td>\n",
       "      <td>TCP</td>\n",
       "      <td>54</td>\n",
       "    </tr>\n",
       "    <tr>\n",
       "      <td>4</td>\n",
       "      <td>4</td>\n",
       "      <td>0.083455</td>\n",
       "      <td>10.97.172.240</td>\n",
       "      <td>52.21.103.149</td>\n",
       "      <td>TLSv1.2</td>\n",
       "      <td>309</td>\n",
       "    </tr>\n",
       "    <tr>\n",
       "      <td>5</td>\n",
       "      <td>5</td>\n",
       "      <td>0.164650</td>\n",
       "      <td>52.21.103.149</td>\n",
       "      <td>10.97.172.240</td>\n",
       "      <td>TCP</td>\n",
       "      <td>54</td>\n",
       "    </tr>\n",
       "    <tr>\n",
       "      <td>...</td>\n",
       "      <td>...</td>\n",
       "      <td>...</td>\n",
       "      <td>...</td>\n",
       "      <td>...</td>\n",
       "      <td>...</td>\n",
       "      <td>...</td>\n",
       "    </tr>\n",
       "    <tr>\n",
       "      <td>30918</td>\n",
       "      <td>30918</td>\n",
       "      <td>27.624493</td>\n",
       "      <td>10.97.172.240</td>\n",
       "      <td>157.240.1.18</td>\n",
       "      <td>TCP</td>\n",
       "      <td>54</td>\n",
       "    </tr>\n",
       "    <tr>\n",
       "      <td>30919</td>\n",
       "      <td>30919</td>\n",
       "      <td>27.632048</td>\n",
       "      <td>10.97.172.240</td>\n",
       "      <td>157.240.1.18</td>\n",
       "      <td>TLSv1.2</td>\n",
       "      <td>500</td>\n",
       "    </tr>\n",
       "    <tr>\n",
       "      <td>30920</td>\n",
       "      <td>30920</td>\n",
       "      <td>27.635130</td>\n",
       "      <td>157.240.1.18</td>\n",
       "      <td>10.97.172.240</td>\n",
       "      <td>TCP</td>\n",
       "      <td>54</td>\n",
       "    </tr>\n",
       "    <tr>\n",
       "      <td>30921</td>\n",
       "      <td>30921</td>\n",
       "      <td>27.635137</td>\n",
       "      <td>157.240.1.18</td>\n",
       "      <td>10.97.172.240</td>\n",
       "      <td>TLSv1.2</td>\n",
       "      <td>96</td>\n",
       "    </tr>\n",
       "    <tr>\n",
       "      <td>30922</td>\n",
       "      <td>30922</td>\n",
       "      <td>27.635210</td>\n",
       "      <td>10.97.172.240</td>\n",
       "      <td>157.240.1.18</td>\n",
       "      <td>TCP</td>\n",
       "      <td>54</td>\n",
       "    </tr>\n",
       "  </tbody>\n",
       "</table>\n",
       "<p>30922 rows × 6 columns</p>\n",
       "</div>"
      ],
      "text/plain": [
       "                   Time         Source    Destination Protocol  Length\n",
       "1          1   0.000000  10.97.172.240  52.21.103.149      TCP      78\n",
       "2          2   0.082079  52.21.103.149  10.97.172.240      TCP      66\n",
       "3          3   0.082252  10.97.172.240  52.21.103.149      TCP      54\n",
       "4          4   0.083455  10.97.172.240  52.21.103.149  TLSv1.2     309\n",
       "5          5   0.164650  52.21.103.149  10.97.172.240      TCP      54\n",
       "...      ...        ...            ...            ...      ...     ...\n",
       "30918  30918  27.624493  10.97.172.240   157.240.1.18      TCP      54\n",
       "30919  30919  27.632048  10.97.172.240   157.240.1.18  TLSv1.2     500\n",
       "30920  30920  27.635130   157.240.1.18  10.97.172.240      TCP      54\n",
       "30921  30921  27.635137   157.240.1.18  10.97.172.240  TLSv1.2      96\n",
       "30922  30922  27.635210  10.97.172.240   157.240.1.18      TCP      54\n",
       "\n",
       "[30922 rows x 6 columns]"
      ]
     },
     "execution_count": 23,
     "metadata": {},
     "output_type": "execute_result"
    }
   ],
   "source": [
    "# Remove the last column from DataFrame\n",
    "df.drop('Info', axis=1, inplace=True)\n",
    "df"
   ]
  },
  {
   "cell_type": "markdown",
   "metadata": {},
   "source": [
    "#### 5) Insert a row/column"
   ]
  },
  {
   "cell_type": "code",
   "execution_count": 24,
   "metadata": {},
   "outputs": [
    {
     "data": {
      "text/html": [
       "<div>\n",
       "<style scoped>\n",
       "    .dataframe tbody tr th:only-of-type {\n",
       "        vertical-align: middle;\n",
       "    }\n",
       "\n",
       "    .dataframe tbody tr th {\n",
       "        vertical-align: top;\n",
       "    }\n",
       "\n",
       "    .dataframe thead th {\n",
       "        text-align: right;\n",
       "    }\n",
       "</style>\n",
       "<table border=\"1\" class=\"dataframe\">\n",
       "  <thead>\n",
       "    <tr style=\"text-align: right;\">\n",
       "      <th></th>\n",
       "      <th></th>\n",
       "      <th>Time</th>\n",
       "      <th>Source</th>\n",
       "      <th>Destination</th>\n",
       "      <th>Protocol</th>\n",
       "      <th>Length</th>\n",
       "      <th>Test</th>\n",
       "    </tr>\n",
       "  </thead>\n",
       "  <tbody>\n",
       "    <tr>\n",
       "      <td>1</td>\n",
       "      <td>1.0</td>\n",
       "      <td>0.000000</td>\n",
       "      <td>10.97.172.240</td>\n",
       "      <td>52.21.103.149</td>\n",
       "      <td>TCP</td>\n",
       "      <td>78.0</td>\n",
       "      <td>0.000000</td>\n",
       "    </tr>\n",
       "    <tr>\n",
       "      <td>2</td>\n",
       "      <td>2.0</td>\n",
       "      <td>0.082079</td>\n",
       "      <td>52.21.103.149</td>\n",
       "      <td>10.97.172.240</td>\n",
       "      <td>TCP</td>\n",
       "      <td>66.0</td>\n",
       "      <td>5.417214</td>\n",
       "    </tr>\n",
       "    <tr>\n",
       "      <td>3</td>\n",
       "      <td>3.0</td>\n",
       "      <td>0.082252</td>\n",
       "      <td>10.97.172.240</td>\n",
       "      <td>52.21.103.149</td>\n",
       "      <td>TCP</td>\n",
       "      <td>54.0</td>\n",
       "      <td>4.441608</td>\n",
       "    </tr>\n",
       "    <tr>\n",
       "      <td>4</td>\n",
       "      <td>4.0</td>\n",
       "      <td>0.083455</td>\n",
       "      <td>10.97.172.240</td>\n",
       "      <td>52.21.103.149</td>\n",
       "      <td>TLSv1.2</td>\n",
       "      <td>309.0</td>\n",
       "      <td>25.787595</td>\n",
       "    </tr>\n",
       "    <tr>\n",
       "      <td>5</td>\n",
       "      <td>5.0</td>\n",
       "      <td>0.164650</td>\n",
       "      <td>52.21.103.149</td>\n",
       "      <td>10.97.172.240</td>\n",
       "      <td>TCP</td>\n",
       "      <td>54.0</td>\n",
       "      <td>8.891100</td>\n",
       "    </tr>\n",
       "    <tr>\n",
       "      <td>...</td>\n",
       "      <td>...</td>\n",
       "      <td>...</td>\n",
       "      <td>...</td>\n",
       "      <td>...</td>\n",
       "      <td>...</td>\n",
       "      <td>...</td>\n",
       "      <td>...</td>\n",
       "    </tr>\n",
       "    <tr>\n",
       "      <td>30919</td>\n",
       "      <td>30919.0</td>\n",
       "      <td>27.632048</td>\n",
       "      <td>10.97.172.240</td>\n",
       "      <td>157.240.1.18</td>\n",
       "      <td>TLSv1.2</td>\n",
       "      <td>500.0</td>\n",
       "      <td>13816.024000</td>\n",
       "    </tr>\n",
       "    <tr>\n",
       "      <td>30920</td>\n",
       "      <td>30920.0</td>\n",
       "      <td>27.635130</td>\n",
       "      <td>157.240.1.18</td>\n",
       "      <td>10.97.172.240</td>\n",
       "      <td>TCP</td>\n",
       "      <td>54.0</td>\n",
       "      <td>1492.297020</td>\n",
       "    </tr>\n",
       "    <tr>\n",
       "      <td>30921</td>\n",
       "      <td>30921.0</td>\n",
       "      <td>27.635137</td>\n",
       "      <td>157.240.1.18</td>\n",
       "      <td>10.97.172.240</td>\n",
       "      <td>TLSv1.2</td>\n",
       "      <td>96.0</td>\n",
       "      <td>2652.973152</td>\n",
       "    </tr>\n",
       "    <tr>\n",
       "      <td>30922</td>\n",
       "      <td>30922.0</td>\n",
       "      <td>27.635210</td>\n",
       "      <td>10.97.172.240</td>\n",
       "      <td>157.240.1.18</td>\n",
       "      <td>TCP</td>\n",
       "      <td>54.0</td>\n",
       "      <td>1492.301340</td>\n",
       "    </tr>\n",
       "    <tr>\n",
       "      <td>30923</td>\n",
       "      <td>30922.0</td>\n",
       "      <td>27.635210</td>\n",
       "      <td>10.97.172.240</td>\n",
       "      <td>157.240.1.18</td>\n",
       "      <td>TCP</td>\n",
       "      <td>54.0</td>\n",
       "      <td>1492.301340</td>\n",
       "    </tr>\n",
       "  </tbody>\n",
       "</table>\n",
       "<p>30923 rows × 7 columns</p>\n",
       "</div>"
      ],
      "text/plain": [
       "                     Time         Source    Destination Protocol  Length  \\\n",
       "1          1.0   0.000000  10.97.172.240  52.21.103.149      TCP    78.0   \n",
       "2          2.0   0.082079  52.21.103.149  10.97.172.240      TCP    66.0   \n",
       "3          3.0   0.082252  10.97.172.240  52.21.103.149      TCP    54.0   \n",
       "4          4.0   0.083455  10.97.172.240  52.21.103.149  TLSv1.2   309.0   \n",
       "5          5.0   0.164650  52.21.103.149  10.97.172.240      TCP    54.0   \n",
       "...        ...        ...            ...            ...      ...     ...   \n",
       "30919  30919.0  27.632048  10.97.172.240   157.240.1.18  TLSv1.2   500.0   \n",
       "30920  30920.0  27.635130   157.240.1.18  10.97.172.240      TCP    54.0   \n",
       "30921  30921.0  27.635137   157.240.1.18  10.97.172.240  TLSv1.2    96.0   \n",
       "30922  30922.0  27.635210  10.97.172.240   157.240.1.18      TCP    54.0   \n",
       "30923  30922.0  27.635210  10.97.172.240   157.240.1.18      TCP    54.0   \n",
       "\n",
       "               Test  \n",
       "1          0.000000  \n",
       "2          5.417214  \n",
       "3          4.441608  \n",
       "4         25.787595  \n",
       "5          8.891100  \n",
       "...             ...  \n",
       "30919  13816.024000  \n",
       "30920   1492.297020  \n",
       "30921   2652.973152  \n",
       "30922   1492.301340  \n",
       "30923   1492.301340  \n",
       "\n",
       "[30923 rows x 7 columns]"
      ]
     },
     "execution_count": 24,
     "metadata": {},
     "output_type": "execute_result"
    }
   ],
   "source": [
    "new_row = df.loc[num_packet]\n",
    "df.loc[num_packet+1,:] = new_row\n",
    "new_col = df.loc[:, 'Time']*df.loc[:, 'Length']\n",
    "name_col = 'Test'\n",
    "df.insert(df.shape[1], name_col, new_col)\n",
    "df"
   ]
  },
  {
   "cell_type": "markdown",
   "metadata": {},
   "source": [
    "#### 6) What is the maximum length of a packet ?"
   ]
  },
  {
   "cell_type": "code",
   "execution_count": 26,
   "metadata": {},
   "outputs": [
    {
     "data": {
      "text/plain": [
       "1434.0"
      ]
     },
     "execution_count": 26,
     "metadata": {},
     "output_type": "execute_result"
    }
   ],
   "source": [
    "# Determine the maximum length of packet\n",
    "df['Length'].max()"
   ]
  },
  {
   "cell_type": "markdown",
   "metadata": {},
   "source": [
    "#### 7) What is the mean length of TCP packets ?"
   ]
  },
  {
   "cell_type": "code",
   "execution_count": 28,
   "metadata": {},
   "outputs": [
    {
     "data": {
      "text/plain": [
       "769.1684183293988"
      ]
     },
     "execution_count": 28,
     "metadata": {},
     "output_type": "execute_result"
    }
   ],
   "source": [
    "# Average length of TCP packets\n",
    "df['Length'].mean()"
   ]
  },
  {
   "cell_type": "markdown",
   "metadata": {},
   "source": [
    "#### 8) Repeat the exercise 6.2 with pandas"
   ]
  },
  {
   "cell_type": "code",
   "execution_count": null,
   "metadata": {},
   "outputs": [],
   "source": []
  }
 ],
 "metadata": {
  "kernelspec": {
   "display_name": "Python 3",
   "language": "python",
   "name": "python3"
  }
 },
 "nbformat": 4,
 "nbformat_minor": 2
}
