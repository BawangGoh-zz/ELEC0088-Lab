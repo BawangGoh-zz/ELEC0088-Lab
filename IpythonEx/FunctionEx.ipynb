{
 "cells": [
  {
   "cell_type": "markdown",
   "metadata": {},
   "source": [
    "## Functions and Modules\n",
    "<u>**Part 1)** </u>: <br>\n",
    "Write a function that receives a list and returns the maximum value in that list"
   ]
  },
  {
   "cell_type": "code",
   "execution_count": 1,
   "metadata": {},
   "outputs": [],
   "source": [
    "## User input list\n",
    "def inputList():\n",
    "    input_string = input(\"Enter a list of element separate by space\\n\")\n",
    "    myList = list(map(int,input_string.split()))\n",
    "    print(myList)\n",
    "    return myList"
   ]
  },
  {
   "cell_type": "code",
   "execution_count": 2,
   "metadata": {},
   "outputs": [],
   "source": [
    "# Return the maximum value in the list\n",
    "def maxVal(list):\n",
    "    return max(list)"
   ]
  },
  {
   "cell_type": "markdown",
   "metadata": {},
   "source": [
    "<u>**Part 2)** </u>: <br> \n",
    "Write a function that returns the factorial of a given number. Also attempt this by using a recursive function (a function that calls itself), noting that factorial of n is equal to n times factorial of n-1"
   ]
  },
  {
   "cell_type": "code",
   "execution_count": 3,
   "metadata": {},
   "outputs": [],
   "source": [
    "# Return factorial number using recursive function\n",
    "def recFactorial(n):\n",
    "    if n == 0:\n",
    "        return 1\n",
    "    elif n < 0:\n",
    "        print(\"Error no negative value factorial\")\n",
    "    else:\n",
    "        return n*recFactorial(n-1)"
   ]
  },
  {
   "cell_type": "markdown",
   "metadata": {},
   "source": [
    "<u>**Part 3)** </u>: <br> \n",
    "Write a function that receives a list and returns a ordered version of that list."
   ]
  },
  {
   "cell_type": "code",
   "execution_count": 4,
   "metadata": {},
   "outputs": [],
   "source": [
    "# Return the ordered list\n",
    "def orderList(list):\n",
    "    newList = list.copy()\n",
    "    newList.sort()\n",
    "    return newList"
   ]
  },
  {
   "cell_type": "code",
   "execution_count": 5,
   "metadata": {},
   "outputs": [
    {
     "name": "stdout",
     "output_type": "stream",
     "text": [
      "Enter a list of element separate by space\n",
      "1 2 3 4 100\n",
      "[1, 2, 3, 4, 100]\n",
      "100\n",
      "Enter an integer value\n",
      "24\n",
      "620448401733239439360000\n",
      "Enter a list of element separate by space\n",
      "4 3 2 5 8 10\n",
      "[4, 3, 2, 5, 8, 10]\n",
      "[2, 3, 4, 5, 8, 10]\n"
     ]
    }
   ],
   "source": [
    "def main():\n",
    "    # Part 1)\n",
    "    list1 = inputList()\n",
    "    max_value = maxVal(list1)\n",
    "    print(max_value)\n",
    "\n",
    "    # Part 2)\n",
    "    integer = int(input(\"Enter an integer value\\n\"))\n",
    "    factorial = recFactorial(integer)\n",
    "    print(factorial)\n",
    "\n",
    "    # Part 3) \n",
    "    list2 = inputList()\n",
    "    sortedList = orderList(list2)\n",
    "    print(sortedList)\n",
    "\n",
    "if __name__ == \"__main__\":\n",
    "    main()"
   ]
  },
  {
   "cell_type": "code",
   "execution_count": null,
   "metadata": {},
   "outputs": [],
   "source": []
  }
 ],
 "metadata": {
  "kernelspec": {
   "display_name": "Python 3",
   "language": "python",
   "name": "python3"
  },
  "language_info": {
   "codemirror_mode": {
    "name": "ipython",
    "version": 3
   },
   "file_extension": ".py",
   "mimetype": "text/x-python",
   "name": "python",
   "nbconvert_exporter": "python",
   "pygments_lexer": "ipython3",
   "version": "3.7.4"
  }
 },
 "nbformat": 4,
 "nbformat_minor": 2
}
