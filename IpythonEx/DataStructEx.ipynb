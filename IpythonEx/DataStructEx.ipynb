{
 "cells": [
  {
   "cell_type": "markdown",
   "metadata": {},
   "source": [
    "## Data Structures (Dictionaries and Lists) and Control Flows\n",
    "\n",
    "<u>**Part 1)** </u>: <br>\n",
    "Implement a DNS querying program that stores the mapping between the names into IP addresses. Explicitly define the name of the network into the databases\n",
    "\n",
    "<u>**Part 2)** </u>: <br>\n",
    "Allow for the user to query several types of DNS record (NS, MX, etc)."
   ]
  },
  {
   "cell_type": "code",
   "execution_count": 1,
   "metadata": {},
   "outputs": [],
   "source": [
    "## Define IP addresses query function using get\n",
    "def IPquery(dct, string):\n",
    "    return dct.get(string)\n",
    "\n",
    "def NS_MX(dct, string):\n",
    "    if(string.find('NS') == True):\n",
    "        print(str(dct.get(string)))\n",
    "    else:\n",
    "        print(str(dct.get(string)))"
   ]
  },
  {
   "cell_type": "code",
   "execution_count": 2,
   "metadata": {},
   "outputs": [
    {
     "name": "stdout",
     "output_type": "stream",
     "text": [
      "Enter a website: www.google.com\n",
      "Requested IP address: 8.8.8.8\n",
      "Print all records: \n",
      "{'www.ee.ucl.ac.uk': '144.82.8.143', 'www.google.com': '8.8.8.8'}\n",
      "Enter type of lookup: MX\n",
      "{'www.google.com': '173.194.202.27'}\n"
     ]
    }
   ],
   "source": [
    "def main():\n",
    "    ## Part 1) Defining DNS query name and IP addresses databases\n",
    "    IPdatabase = {\"www.ee.ucl.ac.uk\": '144.82.8.143',\n",
    "                \"www.google.com\": '8.8.8.8'}\n",
    "    website = str(input(\"Enter a website: \"))\n",
    "    print(\"Requested IP address: \" + IPquery(IPdatabase, website))\n",
    "    print(\"Print all records: \")\n",
    "    print (IPdatabase)\n",
    "\n",
    "    ## Part 2) Defining DNS query name and IP addresses for NS and MX databases\n",
    "    lookup = {'NS': {\"www.bbc.co.uk\": '212.58.244.26'},\n",
    "            'MX': {\"www.google.com\": '173.194.202.27'}}\n",
    "    dnstype = str(input(\"Enter type of lookup: \"))\n",
    "    NS_MX(lookup, dnstype)\n",
    "    \n",
    "if __name__ == \"__main__\":\n",
    "    main()"
   ]
  },
  {
   "cell_type": "code",
   "execution_count": null,
   "metadata": {},
   "outputs": [],
   "source": []
  }
 ],
 "metadata": {
  "kernelspec": {
   "display_name": "Python 3",
   "language": "python",
   "name": "python3"
  },
  "language_info": {
   "codemirror_mode": {
    "name": "ipython",
    "version": 3
   },
   "file_extension": ".py",
   "mimetype": "text/x-python",
   "name": "python",
   "nbconvert_exporter": "python",
   "pygments_lexer": "ipython3",
   "version": "3.7.6"
  }
 },
 "nbformat": 4,
 "nbformat_minor": 2
}
