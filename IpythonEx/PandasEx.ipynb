{
 "cells": [
  {
   "cell_type": "markdown",
   "metadata": {},
   "source": [
    "## Pandas Exercise\n",
    "### Task: Use pandas to process and query the wireshark file you send in Chapter 6\n",
    "#### 1) Load the Wireshark file that you used in Chapter 6 into a pandas DataFrame"
   ]
  },
  {
   "cell_type": "code",
   "execution_count": 1,
   "metadata": {},
   "outputs": [
    {
     "data": {
      "text/html": [
       "<div>\n",
       "<style scoped>\n",
       "    .dataframe tbody tr th:only-of-type {\n",
       "        vertical-align: middle;\n",
       "    }\n",
       "\n",
       "    .dataframe tbody tr th {\n",
       "        vertical-align: top;\n",
       "    }\n",
       "\n",
       "    .dataframe thead th {\n",
       "        text-align: right;\n",
       "    }\n",
       "</style>\n",
       "<table border=\"1\" class=\"dataframe\">\n",
       "  <thead>\n",
       "    <tr style=\"text-align: right;\">\n",
       "      <th></th>\n",
       "      <th></th>\n",
       "      <th>Time</th>\n",
       "      <th>Source</th>\n",
       "      <th>Destination</th>\n",
       "      <th>Protocol</th>\n",
       "      <th>Length</th>\n",
       "      <th>Info</th>\n",
       "    </tr>\n",
       "  </thead>\n",
       "  <tbody>\n",
       "    <tr>\n",
       "      <th>1</th>\n",
       "      <td>1</td>\n",
       "      <td>0.000000</td>\n",
       "      <td>10.97.172.240</td>\n",
       "      <td>52.21.103.149</td>\n",
       "      <td>TCP</td>\n",
       "      <td>78</td>\n",
       "      <td>54831  &gt;  443 [SYN] Seq=0 Win=65535 Len=0 MSS=...</td>\n",
       "    </tr>\n",
       "    <tr>\n",
       "      <th>2</th>\n",
       "      <td>2</td>\n",
       "      <td>0.082079</td>\n",
       "      <td>52.21.103.149</td>\n",
       "      <td>10.97.172.240</td>\n",
       "      <td>TCP</td>\n",
       "      <td>66</td>\n",
       "      <td>443  &gt;  54831 [SYN, ACK] Seq=0 Ack=1 Win=26883...</td>\n",
       "    </tr>\n",
       "    <tr>\n",
       "      <th>3</th>\n",
       "      <td>3</td>\n",
       "      <td>0.082252</td>\n",
       "      <td>10.97.172.240</td>\n",
       "      <td>52.21.103.149</td>\n",
       "      <td>TCP</td>\n",
       "      <td>54</td>\n",
       "      <td>54831  &gt;  443 [ACK] Seq=1 Ack=1 Win=262144 Len=0</td>\n",
       "    </tr>\n",
       "    <tr>\n",
       "      <th>4</th>\n",
       "      <td>4</td>\n",
       "      <td>0.083455</td>\n",
       "      <td>10.97.172.240</td>\n",
       "      <td>52.21.103.149</td>\n",
       "      <td>TLSv1.2</td>\n",
       "      <td>309</td>\n",
       "      <td>Client Hello</td>\n",
       "    </tr>\n",
       "    <tr>\n",
       "      <th>5</th>\n",
       "      <td>5</td>\n",
       "      <td>0.164650</td>\n",
       "      <td>52.21.103.149</td>\n",
       "      <td>10.97.172.240</td>\n",
       "      <td>TCP</td>\n",
       "      <td>54</td>\n",
       "      <td>443  &gt;  54831 [ACK] Seq=1 Ack=256 Win=28160 Len=0</td>\n",
       "    </tr>\n",
       "  </tbody>\n",
       "</table>\n",
       "</div>"
      ],
      "text/plain": [
       "          Time         Source    Destination Protocol  Length  \\\n",
       "1  1  0.000000  10.97.172.240  52.21.103.149      TCP      78   \n",
       "2  2  0.082079  52.21.103.149  10.97.172.240      TCP      66   \n",
       "3  3  0.082252  10.97.172.240  52.21.103.149      TCP      54   \n",
       "4  4  0.083455  10.97.172.240  52.21.103.149  TLSv1.2     309   \n",
       "5  5  0.164650  52.21.103.149  10.97.172.240      TCP      54   \n",
       "\n",
       "                                                Info  \n",
       "1  54831  >  443 [SYN] Seq=0 Win=65535 Len=0 MSS=...  \n",
       "2  443  >  54831 [SYN, ACK] Seq=0 Ack=1 Win=26883...  \n",
       "3   54831  >  443 [ACK] Seq=1 Ack=1 Win=262144 Len=0  \n",
       "4                                       Client Hello  \n",
       "5  443  >  54831 [ACK] Seq=1 Ack=256 Win=28160 Len=0  "
      ]
     },
     "execution_count": 1,
     "metadata": {},
     "output_type": "execute_result"
    }
   ],
   "source": [
    "import numpy as np \n",
    "import pandas as pd\n",
    "\n",
    "# Load data from Wireshark\n",
    "df = pd.read_csv(\"ws.csv\")\n",
    "df.index = df.index + 1\n",
    "df.head()"
   ]
  },
  {
   "cell_type": "code",
   "execution_count": 2,
   "metadata": {},
   "outputs": [
    {
     "name": "stdout",
     "output_type": "stream",
     "text": [
      "Index([' ', 'Time', 'Source', 'Destination', 'Protocol', 'Length', 'Info'], dtype='object')\n"
     ]
    }
   ],
   "source": [
    "# Print the keys from the dictionaries\n",
    "print(df.keys())"
   ]
  },
  {
   "cell_type": "markdown",
   "metadata": {},
   "source": [
    "#### 2) How many packets (rows) are there in the DataFrame\n"
   ]
  },
  {
   "cell_type": "code",
   "execution_count": 3,
   "metadata": {},
   "outputs": [
    {
     "name": "stdout",
     "output_type": "stream",
     "text": [
      "Number of packets: 30922\n"
     ]
    }
   ],
   "source": [
    "# Print the number of packet\n",
    "num_packet = df.shape[0]\n",
    "print('Number of packets: ' + str(num_packet))"
   ]
  },
  {
   "cell_type": "markdown",
   "metadata": {},
   "source": [
    "#### 3) How many fields (columns) are there in the DataFrame ?"
   ]
  },
  {
   "cell_type": "code",
   "execution_count": 4,
   "metadata": {},
   "outputs": [
    {
     "name": "stdout",
     "output_type": "stream",
     "text": [
      "Index([' ', 'Time', 'Source', 'Destination', 'Protocol', 'Length', 'Info'], dtype='object')\n",
      "7\n"
     ]
    }
   ],
   "source": [
    "# Print the field (dictionary keys) in the DataFrame\n",
    "print(df.keys())\n",
    "num_field = df.shape[1]\n",
    "print(num_field)"
   ]
  },
  {
   "cell_type": "markdown",
   "metadata": {},
   "source": [
    "#### 4) Remove the last column"
   ]
  },
  {
   "cell_type": "code",
   "execution_count": 5,
   "metadata": {},
   "outputs": [
    {
     "data": {
      "text/html": [
       "<div>\n",
       "<style scoped>\n",
       "    .dataframe tbody tr th:only-of-type {\n",
       "        vertical-align: middle;\n",
       "    }\n",
       "\n",
       "    .dataframe tbody tr th {\n",
       "        vertical-align: top;\n",
       "    }\n",
       "\n",
       "    .dataframe thead th {\n",
       "        text-align: right;\n",
       "    }\n",
       "</style>\n",
       "<table border=\"1\" class=\"dataframe\">\n",
       "  <thead>\n",
       "    <tr style=\"text-align: right;\">\n",
       "      <th></th>\n",
       "      <th></th>\n",
       "      <th>Time</th>\n",
       "      <th>Source</th>\n",
       "      <th>Destination</th>\n",
       "      <th>Protocol</th>\n",
       "      <th>Length</th>\n",
       "    </tr>\n",
       "  </thead>\n",
       "  <tbody>\n",
       "    <tr>\n",
       "      <th>1</th>\n",
       "      <td>1</td>\n",
       "      <td>0.000000</td>\n",
       "      <td>10.97.172.240</td>\n",
       "      <td>52.21.103.149</td>\n",
       "      <td>TCP</td>\n",
       "      <td>78</td>\n",
       "    </tr>\n",
       "    <tr>\n",
       "      <th>2</th>\n",
       "      <td>2</td>\n",
       "      <td>0.082079</td>\n",
       "      <td>52.21.103.149</td>\n",
       "      <td>10.97.172.240</td>\n",
       "      <td>TCP</td>\n",
       "      <td>66</td>\n",
       "    </tr>\n",
       "    <tr>\n",
       "      <th>3</th>\n",
       "      <td>3</td>\n",
       "      <td>0.082252</td>\n",
       "      <td>10.97.172.240</td>\n",
       "      <td>52.21.103.149</td>\n",
       "      <td>TCP</td>\n",
       "      <td>54</td>\n",
       "    </tr>\n",
       "    <tr>\n",
       "      <th>4</th>\n",
       "      <td>4</td>\n",
       "      <td>0.083455</td>\n",
       "      <td>10.97.172.240</td>\n",
       "      <td>52.21.103.149</td>\n",
       "      <td>TLSv1.2</td>\n",
       "      <td>309</td>\n",
       "    </tr>\n",
       "    <tr>\n",
       "      <th>5</th>\n",
       "      <td>5</td>\n",
       "      <td>0.164650</td>\n",
       "      <td>52.21.103.149</td>\n",
       "      <td>10.97.172.240</td>\n",
       "      <td>TCP</td>\n",
       "      <td>54</td>\n",
       "    </tr>\n",
       "    <tr>\n",
       "      <th>...</th>\n",
       "      <td>...</td>\n",
       "      <td>...</td>\n",
       "      <td>...</td>\n",
       "      <td>...</td>\n",
       "      <td>...</td>\n",
       "      <td>...</td>\n",
       "    </tr>\n",
       "    <tr>\n",
       "      <th>30918</th>\n",
       "      <td>30918</td>\n",
       "      <td>27.624493</td>\n",
       "      <td>10.97.172.240</td>\n",
       "      <td>157.240.1.18</td>\n",
       "      <td>TCP</td>\n",
       "      <td>54</td>\n",
       "    </tr>\n",
       "    <tr>\n",
       "      <th>30919</th>\n",
       "      <td>30919</td>\n",
       "      <td>27.632048</td>\n",
       "      <td>10.97.172.240</td>\n",
       "      <td>157.240.1.18</td>\n",
       "      <td>TLSv1.2</td>\n",
       "      <td>500</td>\n",
       "    </tr>\n",
       "    <tr>\n",
       "      <th>30920</th>\n",
       "      <td>30920</td>\n",
       "      <td>27.635130</td>\n",
       "      <td>157.240.1.18</td>\n",
       "      <td>10.97.172.240</td>\n",
       "      <td>TCP</td>\n",
       "      <td>54</td>\n",
       "    </tr>\n",
       "    <tr>\n",
       "      <th>30921</th>\n",
       "      <td>30921</td>\n",
       "      <td>27.635137</td>\n",
       "      <td>157.240.1.18</td>\n",
       "      <td>10.97.172.240</td>\n",
       "      <td>TLSv1.2</td>\n",
       "      <td>96</td>\n",
       "    </tr>\n",
       "    <tr>\n",
       "      <th>30922</th>\n",
       "      <td>30922</td>\n",
       "      <td>27.635210</td>\n",
       "      <td>10.97.172.240</td>\n",
       "      <td>157.240.1.18</td>\n",
       "      <td>TCP</td>\n",
       "      <td>54</td>\n",
       "    </tr>\n",
       "  </tbody>\n",
       "</table>\n",
       "<p>30922 rows × 6 columns</p>\n",
       "</div>"
      ],
      "text/plain": [
       "                   Time         Source    Destination Protocol  Length\n",
       "1          1   0.000000  10.97.172.240  52.21.103.149      TCP      78\n",
       "2          2   0.082079  52.21.103.149  10.97.172.240      TCP      66\n",
       "3          3   0.082252  10.97.172.240  52.21.103.149      TCP      54\n",
       "4          4   0.083455  10.97.172.240  52.21.103.149  TLSv1.2     309\n",
       "5          5   0.164650  52.21.103.149  10.97.172.240      TCP      54\n",
       "...      ...        ...            ...            ...      ...     ...\n",
       "30918  30918  27.624493  10.97.172.240   157.240.1.18      TCP      54\n",
       "30919  30919  27.632048  10.97.172.240   157.240.1.18  TLSv1.2     500\n",
       "30920  30920  27.635130   157.240.1.18  10.97.172.240      TCP      54\n",
       "30921  30921  27.635137   157.240.1.18  10.97.172.240  TLSv1.2      96\n",
       "30922  30922  27.635210  10.97.172.240   157.240.1.18      TCP      54\n",
       "\n",
       "[30922 rows x 6 columns]"
      ]
     },
     "execution_count": 5,
     "metadata": {},
     "output_type": "execute_result"
    }
   ],
   "source": [
    "# Remove the last column from DataFrame\n",
    "df.drop('Info', axis=1, inplace=True)\n",
    "df"
   ]
  },
  {
   "cell_type": "markdown",
   "metadata": {},
   "source": [
    "#### 5) Insert a row/column"
   ]
  },
  {
   "cell_type": "code",
   "execution_count": 6,
   "metadata": {},
   "outputs": [
    {
     "data": {
      "text/html": [
       "<div>\n",
       "<style scoped>\n",
       "    .dataframe tbody tr th:only-of-type {\n",
       "        vertical-align: middle;\n",
       "    }\n",
       "\n",
       "    .dataframe tbody tr th {\n",
       "        vertical-align: top;\n",
       "    }\n",
       "\n",
       "    .dataframe thead th {\n",
       "        text-align: right;\n",
       "    }\n",
       "</style>\n",
       "<table border=\"1\" class=\"dataframe\">\n",
       "  <thead>\n",
       "    <tr style=\"text-align: right;\">\n",
       "      <th></th>\n",
       "      <th></th>\n",
       "      <th>Time</th>\n",
       "      <th>Source</th>\n",
       "      <th>Destination</th>\n",
       "      <th>Protocol</th>\n",
       "      <th>Length</th>\n",
       "      <th>Test</th>\n",
       "    </tr>\n",
       "  </thead>\n",
       "  <tbody>\n",
       "    <tr>\n",
       "      <th>1</th>\n",
       "      <td>1.0</td>\n",
       "      <td>0.000000</td>\n",
       "      <td>10.97.172.240</td>\n",
       "      <td>52.21.103.149</td>\n",
       "      <td>TCP</td>\n",
       "      <td>78.0</td>\n",
       "      <td>0.000000</td>\n",
       "    </tr>\n",
       "    <tr>\n",
       "      <th>2</th>\n",
       "      <td>2.0</td>\n",
       "      <td>0.082079</td>\n",
       "      <td>52.21.103.149</td>\n",
       "      <td>10.97.172.240</td>\n",
       "      <td>TCP</td>\n",
       "      <td>66.0</td>\n",
       "      <td>5.417214</td>\n",
       "    </tr>\n",
       "    <tr>\n",
       "      <th>3</th>\n",
       "      <td>3.0</td>\n",
       "      <td>0.082252</td>\n",
       "      <td>10.97.172.240</td>\n",
       "      <td>52.21.103.149</td>\n",
       "      <td>TCP</td>\n",
       "      <td>54.0</td>\n",
       "      <td>4.441608</td>\n",
       "    </tr>\n",
       "    <tr>\n",
       "      <th>4</th>\n",
       "      <td>4.0</td>\n",
       "      <td>0.083455</td>\n",
       "      <td>10.97.172.240</td>\n",
       "      <td>52.21.103.149</td>\n",
       "      <td>TLSv1.2</td>\n",
       "      <td>309.0</td>\n",
       "      <td>25.787595</td>\n",
       "    </tr>\n",
       "    <tr>\n",
       "      <th>5</th>\n",
       "      <td>5.0</td>\n",
       "      <td>0.164650</td>\n",
       "      <td>52.21.103.149</td>\n",
       "      <td>10.97.172.240</td>\n",
       "      <td>TCP</td>\n",
       "      <td>54.0</td>\n",
       "      <td>8.891100</td>\n",
       "    </tr>\n",
       "    <tr>\n",
       "      <th>...</th>\n",
       "      <td>...</td>\n",
       "      <td>...</td>\n",
       "      <td>...</td>\n",
       "      <td>...</td>\n",
       "      <td>...</td>\n",
       "      <td>...</td>\n",
       "      <td>...</td>\n",
       "    </tr>\n",
       "    <tr>\n",
       "      <th>30919</th>\n",
       "      <td>30919.0</td>\n",
       "      <td>27.632048</td>\n",
       "      <td>10.97.172.240</td>\n",
       "      <td>157.240.1.18</td>\n",
       "      <td>TLSv1.2</td>\n",
       "      <td>500.0</td>\n",
       "      <td>13816.024000</td>\n",
       "    </tr>\n",
       "    <tr>\n",
       "      <th>30920</th>\n",
       "      <td>30920.0</td>\n",
       "      <td>27.635130</td>\n",
       "      <td>157.240.1.18</td>\n",
       "      <td>10.97.172.240</td>\n",
       "      <td>TCP</td>\n",
       "      <td>54.0</td>\n",
       "      <td>1492.297020</td>\n",
       "    </tr>\n",
       "    <tr>\n",
       "      <th>30921</th>\n",
       "      <td>30921.0</td>\n",
       "      <td>27.635137</td>\n",
       "      <td>157.240.1.18</td>\n",
       "      <td>10.97.172.240</td>\n",
       "      <td>TLSv1.2</td>\n",
       "      <td>96.0</td>\n",
       "      <td>2652.973152</td>\n",
       "    </tr>\n",
       "    <tr>\n",
       "      <th>30922</th>\n",
       "      <td>30922.0</td>\n",
       "      <td>27.635210</td>\n",
       "      <td>10.97.172.240</td>\n",
       "      <td>157.240.1.18</td>\n",
       "      <td>TCP</td>\n",
       "      <td>54.0</td>\n",
       "      <td>1492.301340</td>\n",
       "    </tr>\n",
       "    <tr>\n",
       "      <th>30923</th>\n",
       "      <td>30922.0</td>\n",
       "      <td>27.635210</td>\n",
       "      <td>10.97.172.240</td>\n",
       "      <td>157.240.1.18</td>\n",
       "      <td>TCP</td>\n",
       "      <td>54.0</td>\n",
       "      <td>1492.301340</td>\n",
       "    </tr>\n",
       "  </tbody>\n",
       "</table>\n",
       "<p>30923 rows × 7 columns</p>\n",
       "</div>"
      ],
      "text/plain": [
       "                     Time         Source    Destination Protocol  Length  \\\n",
       "1          1.0   0.000000  10.97.172.240  52.21.103.149      TCP    78.0   \n",
       "2          2.0   0.082079  52.21.103.149  10.97.172.240      TCP    66.0   \n",
       "3          3.0   0.082252  10.97.172.240  52.21.103.149      TCP    54.0   \n",
       "4          4.0   0.083455  10.97.172.240  52.21.103.149  TLSv1.2   309.0   \n",
       "5          5.0   0.164650  52.21.103.149  10.97.172.240      TCP    54.0   \n",
       "...        ...        ...            ...            ...      ...     ...   \n",
       "30919  30919.0  27.632048  10.97.172.240   157.240.1.18  TLSv1.2   500.0   \n",
       "30920  30920.0  27.635130   157.240.1.18  10.97.172.240      TCP    54.0   \n",
       "30921  30921.0  27.635137   157.240.1.18  10.97.172.240  TLSv1.2    96.0   \n",
       "30922  30922.0  27.635210  10.97.172.240   157.240.1.18      TCP    54.0   \n",
       "30923  30922.0  27.635210  10.97.172.240   157.240.1.18      TCP    54.0   \n",
       "\n",
       "               Test  \n",
       "1          0.000000  \n",
       "2          5.417214  \n",
       "3          4.441608  \n",
       "4         25.787595  \n",
       "5          8.891100  \n",
       "...             ...  \n",
       "30919  13816.024000  \n",
       "30920   1492.297020  \n",
       "30921   2652.973152  \n",
       "30922   1492.301340  \n",
       "30923   1492.301340  \n",
       "\n",
       "[30923 rows x 7 columns]"
      ]
     },
     "execution_count": 6,
     "metadata": {},
     "output_type": "execute_result"
    }
   ],
   "source": [
    "new_row = df.loc[num_packet]\n",
    "df.loc[num_packet+1,:] = new_row\n",
    "new_col = df.loc[:, 'Time']*df.loc[:, 'Length']\n",
    "name_col = 'Test'\n",
    "df.insert(df.shape[1], name_col, new_col)\n",
    "df"
   ]
  },
  {
   "cell_type": "markdown",
   "metadata": {},
   "source": [
    "#### 6) What is the maximum length of a packet ?"
   ]
  },
  {
   "cell_type": "code",
   "execution_count": 7,
   "metadata": {},
   "outputs": [
    {
     "data": {
      "text/plain": [
       "1434.0"
      ]
     },
     "execution_count": 7,
     "metadata": {},
     "output_type": "execute_result"
    }
   ],
   "source": [
    "# Determine the maximum length of packet\n",
    "df['Length'].max()"
   ]
  },
  {
   "cell_type": "markdown",
   "metadata": {},
   "source": [
    "#### 7) What is the mean length of TCP packets ?"
   ]
  },
  {
   "cell_type": "code",
   "execution_count": 8,
   "metadata": {},
   "outputs": [
    {
     "data": {
      "text/plain": [
       "769.1684183293988"
      ]
     },
     "execution_count": 8,
     "metadata": {},
     "output_type": "execute_result"
    }
   ],
   "source": [
    "# Average length of TCP packets\n",
    "df['Length'].mean()"
   ]
  },
  {
   "cell_type": "markdown",
   "metadata": {},
   "source": [
    "#### 8) Repeat the exercise 6.2 with pandas"
   ]
  },
  {
   "cell_type": "code",
   "execution_count": 9,
   "metadata": {},
   "outputs": [
    {
     "name": "stdout",
     "output_type": "stream",
     "text": [
      "D:\\UCL\\4th Year\\Software for Network and Services Design\\Lab\n",
      "{('10.97.172.240', '52.21.103.149', 54831, 443): 510, ('52.21.103.149', '10.97.172.240', 443, 54831): 1608, ('10.97.172.240', '162.125.18.133', 53359, 443): 162, ('10.97.172.240', '162.125.18.133', 54122, 443): 162, ('10.97.172.240', '162.125.18.133', 54834, 443): 132, ('10.97.172.240', '162.125.18.133', 54835, 443): 132, ('10.97.172.240', '162.125.18.133', 54836, 443): 348, ('10.97.172.240', '162.125.18.133', 54837, 443): 360, ('162.125.18.133', '10.97.172.240', 443, 53359): 54, ('162.125.18.133', '10.97.172.240', 443, 54122): 54, ('162.125.18.133', '10.97.172.240', 443, 54834): 66, ('162.125.18.133', '10.97.172.240', 443, 54835): 66, ('162.125.18.133', '10.97.172.240', 443, 54836): 1662, ('162.125.18.133', '10.97.172.240', 443, 54837): 2375, ('10.97.172.240', '216.58.206.142', 54777, 443): 108, ('216.58.206.142', '10.97.172.240', 443, 54777): 108, ('10.97.172.240', '216.58.206.129', 54838, 443): 2226, ('216.58.206.129', '10.97.172.240', 443, 54838): 586, ('10.97.172.240', '13.107.3.128', 54839, 443): 924, ('10.97.172.240', '52.232.69.150', 54840, 443): 1044, ('13.107.3.128', '10.97.172.240', 443, 54839): 13559, ('52.232.69.150', '10.97.172.240', 443, 54840): 19108, ('10.97.172.240', '17.248.144.240', 54819, 443): 108, ('17.248.144.240', '10.97.172.240', 443, 54819): 108, ('13.81.211.255', '10.97.172.240', 443, 54813): 54, ('10.97.172.240', '52.232.69.150', 54841, 443): 1296, ('52.232.69.150', '10.97.172.240', 443, 54841): 23936, ('10.97.172.240', '13.73.144.98', 52575, 443): 54, ('10.97.172.240', '13.94.211.113', 53454, 443): 161, ('13.94.211.113', '10.97.172.240', 443, 53454): 66, ('10.97.172.240', '52.109.28.2', 54753, 443): 141, ('52.109.28.2', '10.97.172.240', 443, 54753): 120, ('10.97.172.240', '66.228.33.150', 54447, 443): 54, ('66.228.33.150', '10.97.172.240', 443, 54447): 54, ('10.97.172.240', '17.252.11.246', 54842, 443): 186, ('17.252.11.246', '10.97.172.240', 443, 54842): 174, ('10.97.172.240', '216.58.206.142', 54843, 443): 1062, ('216.58.206.142', '10.97.172.240', 443, 54843): 2892, ('10.97.172.240', '169.55.74.45', 54360, 443): 54, ('10.97.172.240', '157.240.1.35', 54845, 443): 42446, ('157.240.1.35', '10.97.172.240', 443, 54845): 271590, ('10.97.172.240', '54.247.166.143', 52598, 80): 216, ('10.97.172.240', '54.247.166.143', 52591, 80): 772, ('10.97.172.240', '157.240.1.23', 54847, 443): 710, ('157.240.1.23', '10.97.172.240', 443, 54847): 1662, ('10.97.172.240', '157.240.1.23', 54849, 443): 67386, ('157.240.1.23', '10.97.172.240', 443, 54849): 1450859, ('162.125.32.135', '10.97.172.240', 443, 54822): 54, ('10.97.172.240', '162.125.32.135', 54822, 443): 108, ('10.97.172.240', '157.240.1.35', 54851, 443): 576, ('157.240.1.35', '10.97.172.240', 443, 54851): 2112, ('10.97.172.240', '157.240.1.23', 54853, 443): 723422, ('157.240.1.23', '10.97.172.240', 443, 54853): 12973972, ('10.97.172.240', '157.240.1.19', 54855, 443): 2994, ('157.240.1.19', '10.97.172.240', 443, 54855): 47766, ('10.97.172.240', '157.240.1.35', 54857, 443): 510, ('157.240.1.35', '10.97.172.240', 443, 54857): 1554, ('10.97.172.240', '157.240.1.35', 54859, 443): 522, ('157.240.1.35', '10.97.172.240', 443, 54859): 2288, ('54.247.166.143', '10.97.172.240', 80, 52591): 120, ('10.97.172.240', '157.240.1.23', 54861, 443): 564, ('157.240.1.23', '10.97.172.240', 443, 54861): 1554, ('10.97.172.240', '157.240.1.18', 54863, 443): 738, ('157.240.1.18', '10.97.172.240', 443, 54863): 2211, ('10.97.172.240', '157.240.1.35', 54864, 443): 576, ('157.240.1.35', '10.97.172.240', 443, 54864): 2059, ('10.97.172.240', '157.240.1.18', 54866, 443): 7654, ('157.240.1.18', '10.97.172.240', 443, 54866): 6567, ('10.97.172.240', '52.71.139.107', 52604, 443): 54, ('10.97.172.240', '68.232.34.200', 54814, 443): 54, ('68.232.34.200', '10.97.172.240', 443, 54814): 54, ('10.97.172.240', '216.58.206.142', 54369, 443): 1088, ('216.58.206.142', '10.97.172.240', 443, 54369): 54, ('216.58.206.142', '10.97.172.240', 443, 54371): 162, ('10.97.172.240', '216.58.206.142', 54371, 443): 162}\n",
      "         IP source  IP destination  TCP source  TCP destination  Byte length\n",
      "0    10.97.172.240   52.21.103.149       54831              443          510\n",
      "1    52.21.103.149   10.97.172.240         443            54831         1608\n",
      "2    10.97.172.240  162.125.18.133       53359              443          162\n",
      "3    10.97.172.240  162.125.18.133       54122              443          162\n",
      "4    10.97.172.240  162.125.18.133       54834              443          132\n",
      "..             ...             ...         ...              ...          ...\n",
      "70   68.232.34.200   10.97.172.240         443            54814           54\n",
      "71   10.97.172.240  216.58.206.142       54369              443         1088\n",
      "72  216.58.206.142   10.97.172.240         443            54369           54\n",
      "73  216.58.206.142   10.97.172.240         443            54371          162\n",
      "74   10.97.172.240  216.58.206.142       54371              443          162\n",
      "\n",
      "[75 rows x 5 columns]\n"
     ]
    }
   ],
   "source": [
    "import os\n",
    "\n",
    "os.chdir(\"..\")\n",
    "module_path = os.path.abspath(os.getcwd())\n",
    "print(module_path)\n",
    " \n",
    "# import module_path\n",
    "from ImportClass import ClassPacket\n",
    "\n",
    "# Pipeline for filtering TCP flow\n",
    "PacketObj = ClassPacket('ws.csv')\n",
    "packetDict = PacketObj.openFile()\n",
    "packetFlow = PacketObj.printFlow(packetDict)\n",
    "tcpFlow = PacketObj.sameFlow(packetFlow)\n",
    "tcpByte = PacketObj.newDict(tcpFlow)\n",
    "print(tcpByte)\n",
    "\n",
    "# Convert to pandas Dataframe\n",
    "tcpDF = pd.DataFrame([[keys[0], keys[1], keys[2], keys[3], values] for keys, values in tcpByte.items()]) \\\n",
    "        .rename(columns={0:'IP source', 1:'IP destination', 2:'TCP source', 3:'TCP destination', 4:'Byte length'})\n",
    "print(tcpDF)"
   ]
  },
  {
   "cell_type": "code",
   "execution_count": null,
   "metadata": {},
   "outputs": [],
   "source": []
  }
 ],
 "metadata": {
  "kernelspec": {
   "display_name": "Python 3",
   "language": "python",
   "name": "python3"
  },
  "language_info": {
   "codemirror_mode": {
    "name": "ipython",
    "version": 3
   },
   "file_extension": ".py",
   "mimetype": "text/x-python",
   "name": "python",
   "nbconvert_exporter": "python",
   "pygments_lexer": "ipython3",
   "version": "3.7.4"
  }
 },
 "nbformat": 4,
 "nbformat_minor": 2
}
