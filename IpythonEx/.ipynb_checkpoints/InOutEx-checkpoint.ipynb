{
 "cells": [
  {
   "cell_type": "markdown",
   "metadata": {},
   "source": [
    "## Variables, expressions and Input/Output\n",
    "#### Part 1) Ask user to input 3 numbers and prints the biggest number"
   ]
  },
  {
   "cell_type": "code",
   "execution_count": 1,
   "metadata": {},
   "outputs": [],
   "source": [
    "## Define user input\n",
    "def inputNum():\n",
    "    num1 = float(input(\"First number: \"))\n",
    "    num2 = float(input(\"Second number: \"))\n",
    "    num3 = float(input(\"Third number: \"))\n",
    "    return num1,num2,num3"
   ]
  },
  {
   "cell_type": "code",
   "execution_count": 2,
   "metadata": {},
   "outputs": [],
   "source": [
    "## Define comparison function\n",
    "def compareNum(num1, num2, num3):\n",
    "    if num1 > num2 and num1 > num3:\n",
    "        return num1\n",
    "    elif num2 > num1 and num2 > num3:\n",
    "        return num2\n",
    "    else:\n",
    "        return num3"
   ]
  },
  {
   "cell_type": "markdown",
   "metadata": {},
   "source": [
    "#### Part 2) Ask two numbers representing a month and a year and then print the number of days that month has"
   ]
  },
  {
   "cell_type": "code",
   "execution_count": 3,
   "metadata": {},
   "outputs": [],
   "source": [
    "def dateTime():\n",
    "    month = int(input(\"Which month \"))\n",
    "    year = int(input(\"Which year \"))\n",
    "    return month, year"
   ]
  },
  {
   "cell_type": "code",
   "execution_count": 4,
   "metadata": {},
   "outputs": [],
   "source": [
    "## February for leap year\n",
    "def checkFeb(dict, year):\n",
    "    if(year % 4 == 0):\n",
    "        dict[\"2\"] = 29\n",
    "    return dict"
   ]
  },
  {
   "cell_type": "code",
   "execution_count": 5,
   "metadata": {},
   "outputs": [
    {
     "name": "stdout",
     "output_type": "stream",
     "text": [
      "First number: 1\n",
      "Second number: 2\n",
      "Third number: 3\n",
      "3.0\n",
      "Which month 12\n",
      "Which year 2015\n",
      "Total days: 31 in 12 2015\n"
     ]
    }
   ],
   "source": [
    "def main():\n",
    "    num1, num2, num3 = inputNum()\n",
    "    print(compareNum(num1, num2, num3))\n",
    "\n",
    "    # Defining dictionary (very similar to database) keys to search the days in the months\n",
    "    days_in_months = {\"1\": 31, \"2\": 28, \"3\": 31, \"4\": 30,\n",
    "                    \"5\": 31, \"6\": 30, \"7\": 31, \"8\": 31,\n",
    "                    \"9\": 30, \"10\": 31, \"11\": 30, \"12\": 31}\n",
    "\n",
    "    month, year = dateTime()\n",
    "    days_in_months = checkFeb(days_in_months, year)\n",
    "    print(\"Total days: \" + str(days_in_months[str(month)]) + \" in \" + str(month) + \" \" + str(year))\n",
    "    \n",
    "if __name__ == \"__main__\":\n",
    "    main()"
   ]
  },
  {
   "cell_type": "code",
   "execution_count": null,
   "metadata": {},
   "outputs": [],
   "source": []
  }
 ],
 "metadata": {
  "kernelspec": {
   "display_name": "Python 3",
   "language": "python",
   "name": "python3"
  },
  "language_info": {
   "codemirror_mode": {
    "name": "ipython",
    "version": 3
   },
   "file_extension": ".py",
   "mimetype": "text/x-python",
   "name": "python",
   "nbconvert_exporter": "python",
   "pygments_lexer": "ipython3",
   "version": "3.7.4"
  }
 },
 "nbformat": 4,
 "nbformat_minor": 2
}
