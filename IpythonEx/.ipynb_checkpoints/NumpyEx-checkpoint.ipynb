{
 "cells": [
  {
   "cell_type": "markdown",
   "metadata": {},
   "source": [
    "## NumPy Exercise\n",
    "### Task: Create NumPy code that accomplishes the following simple task\n",
    "#### 1) Create a NumPy array that starts in 0 and finishes at 10 and contains the even numbers between 0 and 10"
   ]
  },
  {
   "cell_type": "code",
   "execution_count": 2,
   "metadata": {},
   "outputs": [
    {
     "name": "stdout",
     "output_type": "stream",
     "text": [
      "[0 2 4 6 8]\n"
     ]
    }
   ],
   "source": [
    "import numpy as np\n",
    "import pandas as pd\n",
    "\n",
    "# Even numbers between 0 and 10\n",
    "even = np.arange(0, 10)\n",
    "even = even[even%2 == 0]\n",
    "print(even)"
   ]
  },
  {
   "cell_type": "markdown",
   "metadata": {},
   "source": [
    "#### 2) Create a NumPy array with matrix [2, 1; 6, 3]"
   ]
  },
  {
   "cell_type": "code",
   "execution_count": 7,
   "metadata": {},
   "outputs": [
    {
     "name": "stdout",
     "output_type": "stream",
     "text": [
      "[[2 1]\n",
      " [6 3]]\n"
     ]
    }
   ],
   "source": [
    "# Create matrix [2 1;6 3]\n",
    "matrix = np.array([[2, 1], [6, 3]])\n",
    "print(matrix)"
   ]
  },
  {
   "cell_type": "markdown",
   "metadata": {},
   "source": [
    "#### 3) Multiply the matrix you created with identity matrix [1 0; 0 1]"
   ]
  },
  {
   "cell_type": "code",
   "execution_count": 10,
   "metadata": {},
   "outputs": [
    {
     "name": "stdout",
     "output_type": "stream",
     "text": [
      "[[1. 0.]\n",
      " [0. 1.]]\n",
      "[[2. 1.]\n",
      " [6. 3.]]\n"
     ]
    }
   ],
   "source": [
    "# Create identity matrix [1 0; 0 1]\n",
    "eye = np.identity(2)\n",
    "print(eye)\n",
    "\n",
    "# Multiply the matrix with identity\n",
    "multiply = np.dot(matrix, eye)\n",
    "print(multiply)"
   ]
  },
  {
   "cell_type": "markdown",
   "metadata": {},
   "source": [
    "#### 4) Sum the columns of the matrix created in part 2"
   ]
  },
  {
   "cell_type": "code",
   "execution_count": 13,
   "metadata": {},
   "outputs": [
    {
     "name": "stdout",
     "output_type": "stream",
     "text": [
      "[8 4]\n"
     ]
    }
   ],
   "source": [
    "# Sum the column of the matrix\n",
    "col_sum = np.sum(matrix, axis=0)\n",
    "print(col_sum)"
   ]
  },
  {
   "cell_type": "code",
   "execution_count": null,
   "metadata": {},
   "outputs": [],
   "source": []
  }
 ],
 "metadata": {
  "kernelspec": {
   "display_name": "Python 3",
   "language": "python",
   "name": "python3"
  },
  "language_info": {
   "codemirror_mode": {
    "name": "ipython",
    "version": 3
   },
   "file_extension": ".py",
   "mimetype": "text/x-python",
   "name": "python",
   "nbconvert_exporter": "python",
   "pygments_lexer": "ipython3",
   "version": "3.7.4"
  }
 },
 "nbformat": 4,
 "nbformat_minor": 2
}
