{
 "cells": [
  {
   "cell_type": "markdown",
   "metadata": {},
   "source": [
    "## Neural Network Example"
   ]
  },
  {
   "cell_type": "code",
   "execution_count": 1,
   "metadata": {},
   "outputs": [
    {
     "name": "stderr",
     "output_type": "stream",
     "text": [
      "Using TensorFlow backend.\n"
     ]
    }
   ],
   "source": [
    "import keras\n",
    "from keras.datasets import mnist\n",
    "from keras.models import Sequential\n",
    "from keras.layers import Dense, Dropout\n",
    "from keras.optimizers import RMSprop\n",
    "\n",
    "# The batch size is the number of samples\n",
    "batch_size = 128\n",
    "# There are 10 possible digits\n",
    "num_classes = 10\n",
    "# Epochs is the number of times the training set is used\n",
    "epochs = 20\n",
    "\n",
    "# the data, split between train and test sets\n",
    "(x_train, y_train), (x_test, y_test) = mnist.load_data()"
   ]
  },
  {
   "cell_type": "markdown",
   "metadata": {},
   "source": [
    "### Unrolling the pixel into a single array 28 x 28 = 784"
   ]
  },
  {
   "cell_type": "code",
   "execution_count": 4,
   "metadata": {},
   "outputs": [],
   "source": [
    "# Each image in the MNIST dataset has 28*28 = 784 pixels.\n",
    "# We reshape this 28x28 matrix into a 784 array\n",
    "x_train = x_train.reshape(60000, 784)\n",
    "x_test = x_test.reshape(10000, 784)\n",
    "x_train = x_train.astype('float32')\n",
    "x_test = x_test.astype('float32')"
   ]
  },
  {
   "cell_type": "code",
   "execution_count": 5,
   "metadata": {},
   "outputs": [
    {
     "name": "stdout",
     "output_type": "stream",
     "text": [
      "60000 train samples\n",
      "10000 test samples\n"
     ]
    }
   ],
   "source": [
    "# The RGB values are between 0 and 255,\n",
    "# and we want to input values between 0 and 1.\n",
    "x_train /= 255\n",
    "x_test /= 255\n",
    "print(x_train.shape[0], 'train samples')\n",
    "print(x_test.shape[0], 'test samples')"
   ]
  },
  {
   "cell_type": "code",
   "execution_count": 6,
   "metadata": {},
   "outputs": [],
   "source": [
    "# convert class vectors to binary class matrices\n",
    "# e.g instead of \"8\" we want [0,0,0,0,0,0,0,0,1,0]\n",
    "y_train = keras.utils.to_categorical(y_train, num_classes)\n",
    "y_test = keras.utils.to_categorical(y_test, num_classes)"
   ]
  },
  {
   "cell_type": "markdown",
   "metadata": {},
   "source": [
    "### Using the Sequential Model"
   ]
  },
  {
   "cell_type": "code",
   "execution_count": 7,
   "metadata": {},
   "outputs": [],
   "source": [
    "# We initialize an empty Sequential model\n",
    "model = Sequential()\n",
    "\n",
    "# And then sequentially add new layers.\n",
    "# A Dense layer is the one we covered this chapter where a neuron connects to all the neurons in the following layer.\n",
    "# For each layer, we have to specify the activation, function and the output size. \n",
    "# In the first layer, we also have to specify the input shape.\n",
    "model.add(Dense(512, activation='relu', input_shape=(784,)))"
   ]
  },
  {
   "cell_type": "markdown",
   "metadata": {},
   "source": [
    "### Regularize the parameter using Dropout"
   ]
  },
  {
   "cell_type": "code",
   "execution_count": 8,
   "metadata": {},
   "outputs": [
    {
     "name": "stdout",
     "output_type": "stream",
     "text": [
      "Model: \"sequential_1\"\n",
      "_________________________________________________________________\n",
      "Layer (type)                 Output Shape              Param #   \n",
      "=================================================================\n",
      "dense_1 (Dense)              (None, 512)               401920    \n",
      "_________________________________________________________________\n",
      "dropout_1 (Dropout)          (None, 512)               0         \n",
      "_________________________________________________________________\n",
      "dense_2 (Dense)              (None, 512)               262656    \n",
      "_________________________________________________________________\n",
      "dropout_2 (Dropout)          (None, 512)               0         \n",
      "_________________________________________________________________\n",
      "dense_3 (Dense)              (None, 10)                5130      \n",
      "=================================================================\n",
      "Total params: 669,706\n",
      "Trainable params: 669,706\n",
      "Non-trainable params: 0\n",
      "_________________________________________________________________\n"
     ]
    }
   ],
   "source": [
    "# Dropout is a regularization technique (to prevent) overfitting\n",
    "model.add(Dropout(0.2))\n",
    "model.add(Dense(512, activation='relu'))\n",
    "model.add(Dropout(0.2))\n",
    "model.add(Dense(num_classes, activation='softmax'))\n",
    "model.summary()"
   ]
  },
  {
   "cell_type": "markdown",
   "metadata": {},
   "source": [
    "### Setup the Neural Network (Loss function and Gradient descent/Convex optimisation)"
   ]
  },
  {
   "cell_type": "code",
   "execution_count": 9,
   "metadata": {},
   "outputs": [],
   "source": [
    "# Once the neural network structure is set we compile it.\n",
    "# That means associate a loss function and an optimzer with it.\n",
    "model.compile(loss='categorical_crossentropy',\n",
    "optimizer=RMSprop(),\n",
    "metrics=['accuracy'])"
   ]
  },
  {
   "cell_type": "markdown",
   "metadata": {},
   "source": [
    "### Start training the data"
   ]
  },
  {
   "cell_type": "code",
   "execution_count": 10,
   "metadata": {},
   "outputs": [
    {
     "name": "stdout",
     "output_type": "stream",
     "text": [
      "Train on 60000 samples, validate on 10000 samples\n",
      "Epoch 1/20\n",
      "60000/60000 [==============================] - 12s 197us/step - loss: 0.8505 - accuracy: 0.7402 - val_loss: 0.3977 - val_accuracy: 0.8790\n",
      "Epoch 2/20\n",
      "60000/60000 [==============================] - 11s 180us/step - loss: 0.3652 - accuracy: 0.8908 - val_loss: 0.2821 - val_accuracy: 0.9170\n",
      "Epoch 3/20\n",
      "60000/60000 [==============================] - 12s 194us/step - loss: 0.2753 - accuracy: 0.9174 - val_loss: 0.2284 - val_accuracy: 0.9278\n",
      "Epoch 4/20\n",
      "60000/60000 [==============================] - 11s 188us/step - loss: 0.2201 - accuracy: 0.9328 - val_loss: 0.1818 - val_accuracy: 0.9441\n",
      "Epoch 5/20\n",
      "60000/60000 [==============================] - 11s 190us/step - loss: 0.1809 - accuracy: 0.9460 - val_loss: 0.1500 - val_accuracy: 0.9520\n",
      "Epoch 6/20\n",
      "60000/60000 [==============================] - 11s 178us/step - loss: 0.1531 - accuracy: 0.9538 - val_loss: 0.1335 - val_accuracy: 0.9584\n",
      "Epoch 7/20\n",
      "60000/60000 [==============================] - 11s 187us/step - loss: 0.1322 - accuracy: 0.9598 - val_loss: 0.1189 - val_accuracy: 0.9642\n",
      "Epoch 8/20\n",
      "60000/60000 [==============================] - 11s 177us/step - loss: 0.1192 - accuracy: 0.9642 - val_loss: 0.1083 - val_accuracy: 0.9666\n",
      "Epoch 9/20\n",
      "60000/60000 [==============================] - 12s 207us/step - loss: 0.1077 - accuracy: 0.9672 - val_loss: 0.1012 - val_accuracy: 0.9693\n",
      "Epoch 10/20\n",
      "60000/60000 [==============================] - 13s 220us/step - loss: 0.0976 - accuracy: 0.9711 - val_loss: 0.0972 - val_accuracy: 0.9711\n",
      "Epoch 11/20\n",
      "60000/60000 [==============================] - 13s 212us/step - loss: 0.0896 - accuracy: 0.9734 - val_loss: 0.0932 - val_accuracy: 0.9715\n",
      "Epoch 12/20\n",
      "60000/60000 [==============================] - 11s 187us/step - loss: 0.0844 - accuracy: 0.9747 - val_loss: 0.0861 - val_accuracy: 0.9727\n",
      "Epoch 13/20\n",
      "60000/60000 [==============================] - 12s 196us/step - loss: 0.0783 - accuracy: 0.9764 - val_loss: 0.0910 - val_accuracy: 0.9737\n",
      "Epoch 14/20\n",
      "60000/60000 [==============================] - 9s 158us/step - loss: 0.0726 - accuracy: 0.9780 - val_loss: 0.0857 - val_accuracy: 0.9740\n",
      "Epoch 15/20\n",
      "60000/60000 [==============================] - 11s 183us/step - loss: 0.0680 - accuracy: 0.9790 - val_loss: 0.0785 - val_accuracy: 0.9772\n",
      "Epoch 16/20\n",
      "60000/60000 [==============================] - 13s 221us/step - loss: 0.0659 - accuracy: 0.9793 - val_loss: 0.0845 - val_accuracy: 0.9753\n",
      "Epoch 17/20\n",
      "60000/60000 [==============================] - 13s 209us/step - loss: 0.0608 - accuracy: 0.9807 - val_loss: 0.0756 - val_accuracy: 0.9772\n",
      "Epoch 18/20\n",
      "60000/60000 [==============================] - 12s 195us/step - loss: 0.0582 - accuracy: 0.9824 - val_loss: 0.0734 - val_accuracy: 0.9791\n",
      "Epoch 19/20\n",
      "60000/60000 [==============================] - 11s 186us/step - loss: 0.0549 - accuracy: 0.9832 - val_loss: 0.0781 - val_accuracy: 0.9768\n",
      "Epoch 20/20\n",
      "60000/60000 [==============================] - 12s 194us/step - loss: 0.0538 - accuracy: 0.9835 - val_loss: 0.0714 - val_accuracy: 0.9793\n"
     ]
    }
   ],
   "source": [
    "# After the network is compiled we can train it, using our\n",
    "# training set.\n",
    "history = model.fit(x_train, y_train,\n",
    "                    batch_size=batch_size,\n",
    "                    epochs=epochs,\n",
    "                    verbose=1,\n",
    "                    validation_data=(x_test, y_test))"
   ]
  },
  {
   "cell_type": "markdown",
   "metadata": {},
   "source": [
    "### Check the performance of the Neural Network"
   ]
  },
  {
   "cell_type": "code",
   "execution_count": 33,
   "metadata": {},
   "outputs": [
    {
     "name": "stdout",
     "output_type": "stream",
     "text": [
      "Test loss: 0.11223928952896035\n",
      "Test accuracy: 0.9846000075340271\n"
     ]
    }
   ],
   "source": [
    "#Finally, we check the performance of the model\n",
    "# in the test set\n",
    "score = model.evaluate(x_test, y_test, verbose=0)\n",
    "print('Test loss:', score[0])\n",
    "print('Test accuracy:', score[1])"
   ]
  },
  {
   "cell_type": "code",
   "execution_count": null,
   "metadata": {},
   "outputs": [],
   "source": []
  }
 ],
 "metadata": {
  "kernelspec": {
   "display_name": "Python 3",
   "language": "python",
   "name": "python3"
  },
  "language_info": {
   "codemirror_mode": {
    "name": "ipython",
    "version": 3
   },
   "file_extension": ".py",
   "mimetype": "text/x-python",
   "name": "python",
   "nbconvert_exporter": "python",
   "pygments_lexer": "ipython3",
   "version": "3.7.4"
  }
 },
 "nbformat": 4,
 "nbformat_minor": 2
}
